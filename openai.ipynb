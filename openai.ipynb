{
 "cells": [
  {
   "cell_type": "code",
   "execution_count": 1,
   "metadata": {},
   "outputs": [
    {
     "data": {
      "text/plain": [
       "8449"
      ]
     },
     "execution_count": 1,
     "metadata": {},
     "output_type": "execute_result"
    }
   ],
   "source": [
    "import pandas as pd\n",
    "\n",
    "reviews = pd.read_csv(\"reviews_with_foods_and_filtered_verbs.csv\")\n",
    "\n",
    "len(reviews)"
   ]
  },
  {
   "cell_type": "code",
   "execution_count": 2,
   "metadata": {},
   "outputs": [
    {
     "data": {
      "text/html": [
       "<div>\n",
       "<style scoped>\n",
       "    .dataframe tbody tr th:only-of-type {\n",
       "        vertical-align: middle;\n",
       "    }\n",
       "\n",
       "    .dataframe tbody tr th {\n",
       "        vertical-align: top;\n",
       "    }\n",
       "\n",
       "    .dataframe thead th {\n",
       "        text-align: right;\n",
       "    }\n",
       "</style>\n",
       "<table border=\"1\" class=\"dataframe\">\n",
       "  <thead>\n",
       "    <tr style=\"text-align: right;\">\n",
       "      <th></th>\n",
       "      <th>user_id</th>\n",
       "      <th>recipe_id</th>\n",
       "      <th>date</th>\n",
       "      <th>rating</th>\n",
       "      <th>review</th>\n",
       "      <th>foods</th>\n",
       "      <th>verbs</th>\n",
       "    </tr>\n",
       "  </thead>\n",
       "  <tbody>\n",
       "    <tr>\n",
       "      <th>0</th>\n",
       "      <td>38094</td>\n",
       "      <td>40893</td>\n",
       "      <td>2003-02-17</td>\n",
       "      <td>4</td>\n",
       "      <td>Great with a salad. Cooked on top of stove for...</td>\n",
       "      <td>{'cayenne pepper', 'shake', 'low fat sour crea...</td>\n",
       "      <td>['cook', 'add', 'use']</td>\n",
       "    </tr>\n",
       "    <tr>\n",
       "      <th>1</th>\n",
       "      <td>57222</td>\n",
       "      <td>85009</td>\n",
       "      <td>2011-10-01</td>\n",
       "      <td>5</td>\n",
       "      <td>Made the cheddar bacon topping, adding a sprin...</td>\n",
       "      <td>{'black pepper'}</td>\n",
       "      <td>['make', 'add']</td>\n",
       "    </tr>\n",
       "    <tr>\n",
       "      <th>2</th>\n",
       "      <td>52282</td>\n",
       "      <td>120345</td>\n",
       "      <td>2005-05-21</td>\n",
       "      <td>4</td>\n",
       "      <td>very very sweet. after i waited the 2 days i b...</td>\n",
       "      <td>{'cake', 'raspberry'}</td>\n",
       "      <td>['wait', 'buy', 'add', 'go', 'add', 'fill', 't...</td>\n",
       "    </tr>\n",
       "    <tr>\n",
       "      <th>3</th>\n",
       "      <td>2000192946</td>\n",
       "      <td>120345</td>\n",
       "      <td>2015-05-10</td>\n",
       "      <td>2</td>\n",
       "      <td>This recipe was OVERLY too sweet.  I would sta...</td>\n",
       "      <td>{'sugar', 'raspberry'}</td>\n",
       "      <td>['start', 'add', 'have', 'go', 'buy', 'make', ...</td>\n",
       "    </tr>\n",
       "    <tr>\n",
       "      <th>4</th>\n",
       "      <td>136726</td>\n",
       "      <td>197160</td>\n",
       "      <td>2006-11-25</td>\n",
       "      <td>5</td>\n",
       "      <td>I used this mix to make meat balls.Very simple...</td>\n",
       "      <td>{'garlic', 'sub sandwich', 'cheese', 'sauces',...</td>\n",
       "      <td>['use', 'make', 'put', 'make', 'put', 'find', ...</td>\n",
       "    </tr>\n",
       "  </tbody>\n",
       "</table>\n",
       "</div>"
      ],
      "text/plain": [
       "      user_id  recipe_id        date  rating  \\\n",
       "0       38094      40893  2003-02-17       4   \n",
       "1       57222      85009  2011-10-01       5   \n",
       "2       52282     120345  2005-05-21       4   \n",
       "3  2000192946     120345  2015-05-10       2   \n",
       "4      136726     197160  2006-11-25       5   \n",
       "\n",
       "                                              review  \\\n",
       "0  Great with a salad. Cooked on top of stove for...   \n",
       "1  Made the cheddar bacon topping, adding a sprin...   \n",
       "2  very very sweet. after i waited the 2 days i b...   \n",
       "3  This recipe was OVERLY too sweet.  I would sta...   \n",
       "4  I used this mix to make meat balls.Very simple...   \n",
       "\n",
       "                                               foods  \\\n",
       "0  {'cayenne pepper', 'shake', 'low fat sour crea...   \n",
       "1                                   {'black pepper'}   \n",
       "2                              {'cake', 'raspberry'}   \n",
       "3                             {'sugar', 'raspberry'}   \n",
       "4  {'garlic', 'sub sandwich', 'cheese', 'sauces',...   \n",
       "\n",
       "                                               verbs  \n",
       "0                             ['cook', 'add', 'use']  \n",
       "1                                    ['make', 'add']  \n",
       "2  ['wait', 'buy', 'add', 'go', 'add', 'fill', 't...  \n",
       "3  ['start', 'add', 'have', 'go', 'buy', 'make', ...  \n",
       "4  ['use', 'make', 'put', 'make', 'put', 'find', ...  "
      ]
     },
     "execution_count": 2,
     "metadata": {},
     "output_type": "execute_result"
    }
   ],
   "source": [
    "reviews.head()"
   ]
  },
  {
   "cell_type": "code",
   "execution_count": 3,
   "metadata": {},
   "outputs": [
    {
     "data": {
      "text/plain": [
       "231637"
      ]
     },
     "execution_count": 3,
     "metadata": {},
     "output_type": "execute_result"
    }
   ],
   "source": [
    "recipes = pd.read_csv(\"RAW_recipes.csv\")\n",
    "\n",
    "len(recipes)"
   ]
  },
  {
   "cell_type": "code",
   "execution_count": 4,
   "metadata": {},
   "outputs": [],
   "source": [
    "# rename id to recipe_id\n",
    "\n",
    "recipes = recipes.rename(columns={\"id\": \"recipe_id\"})"
   ]
  },
  {
   "cell_type": "code",
   "execution_count": 5,
   "metadata": {},
   "outputs": [],
   "source": [
    "# take ingredients column from recipes and add it to reviews where id matches\n",
    "\n",
    "reviews_with_ingredients = pd.merge(reviews, recipes[[\"recipe_id\", \"ingredients\"]], on=\"recipe_id\")"
   ]
  },
  {
   "cell_type": "code",
   "execution_count": 18,
   "metadata": {},
   "outputs": [
    {
     "data": {
      "text/html": [
       "<div>\n",
       "<style scoped>\n",
       "    .dataframe tbody tr th:only-of-type {\n",
       "        vertical-align: middle;\n",
       "    }\n",
       "\n",
       "    .dataframe tbody tr th {\n",
       "        vertical-align: top;\n",
       "    }\n",
       "\n",
       "    .dataframe thead th {\n",
       "        text-align: right;\n",
       "    }\n",
       "</style>\n",
       "<table border=\"1\" class=\"dataframe\">\n",
       "  <thead>\n",
       "    <tr style=\"text-align: right;\">\n",
       "      <th></th>\n",
       "      <th>user_id</th>\n",
       "      <th>recipe_id</th>\n",
       "      <th>date</th>\n",
       "      <th>rating</th>\n",
       "      <th>review</th>\n",
       "      <th>foods</th>\n",
       "      <th>verbs</th>\n",
       "      <th>ingredients</th>\n",
       "    </tr>\n",
       "  </thead>\n",
       "  <tbody>\n",
       "    <tr>\n",
       "      <th>8444</th>\n",
       "      <td>2001277</td>\n",
       "      <td>3668</td>\n",
       "      <td>2011-09-06</td>\n",
       "      <td>5</td>\n",
       "      <td>This recipe is an unexpected pleasure -- I had...</td>\n",
       "      <td>{'garlic', 'cheese', 'sherry', 'zucchini', 'sq...</td>\n",
       "      <td>['have', 'come', 'use', 'take', 'mix', 'need',...</td>\n",
       "      <td>['chicken', 'zucchini', 'onion', 'carrot', 'cr...</td>\n",
       "    </tr>\n",
       "    <tr>\n",
       "      <th>8445</th>\n",
       "      <td>1840647</td>\n",
       "      <td>155135</td>\n",
       "      <td>2011-03-02</td>\n",
       "      <td>0</td>\n",
       "      <td>A slight variation on this recipe I've made an...</td>\n",
       "      <td>{'salsa', 'eggs'}</td>\n",
       "      <td>['make', 'find', 'cut', 'chop', 'get', 'add', ...</td>\n",
       "      <td>['eggs', 'part-skim ricotta cheese', 'plum tom...</td>\n",
       "    </tr>\n",
       "    <tr>\n",
       "      <th>8446</th>\n",
       "      <td>83093</td>\n",
       "      <td>155135</td>\n",
       "      <td>2007-09-09</td>\n",
       "      <td>5</td>\n",
       "      <td>Teeheehee ... I feel so sneaky. \\r\\n;-)  I mad...</td>\n",
       "      <td>{'eggs', 'ricotta'}</td>\n",
       "      <td>['feel', 'make', 'notice', 'add', 'bake', 'get...</td>\n",
       "      <td>['eggs', 'part-skim ricotta cheese', 'plum tom...</td>\n",
       "    </tr>\n",
       "    <tr>\n",
       "      <th>8447</th>\n",
       "      <td>69927</td>\n",
       "      <td>57122</td>\n",
       "      <td>2004-11-10</td>\n",
       "      <td>2</td>\n",
       "      <td>I'm sorry, this simply didn't suit my family's...</td>\n",
       "      <td>{'canned pimiento', 'chicken', 'broccoli', 'ga...</td>\n",
       "      <td>['suit', 'like', 'have', 'make', 'use', 'find'...</td>\n",
       "      <td>['fresh broccoli', 'boneless skinless chicken ...</td>\n",
       "    </tr>\n",
       "    <tr>\n",
       "      <th>8448</th>\n",
       "      <td>199792</td>\n",
       "      <td>158715</td>\n",
       "      <td>2008-03-15</td>\n",
       "      <td>5</td>\n",
       "      <td>Yum! The star of the show!! My steaks were qui...</td>\n",
       "      <td>{'sauces', 'steak'}</td>\n",
       "      <td>['choose', 'think', 'throw', 'reduce', 'change...</td>\n",
       "      <td>['sirloin steak', 'shallot', 'garlic cloves', ...</td>\n",
       "    </tr>\n",
       "  </tbody>\n",
       "</table>\n",
       "</div>"
      ],
      "text/plain": [
       "      user_id  recipe_id        date  rating  \\\n",
       "8444  2001277       3668  2011-09-06       5   \n",
       "8445  1840647     155135  2011-03-02       0   \n",
       "8446    83093     155135  2007-09-09       5   \n",
       "8447    69927      57122  2004-11-10       2   \n",
       "8448   199792     158715  2008-03-15       5   \n",
       "\n",
       "                                                 review  \\\n",
       "8444  This recipe is an unexpected pleasure -- I had...   \n",
       "8445  A slight variation on this recipe I've made an...   \n",
       "8446  Teeheehee ... I feel so sneaky. \\r\\n;-)  I mad...   \n",
       "8447  I'm sorry, this simply didn't suit my family's...   \n",
       "8448  Yum! The star of the show!! My steaks were qui...   \n",
       "\n",
       "                                                  foods  \\\n",
       "8444  {'garlic', 'cheese', 'sherry', 'zucchini', 'sq...   \n",
       "8445                                  {'salsa', 'eggs'}   \n",
       "8446                                {'eggs', 'ricotta'}   \n",
       "8447  {'canned pimiento', 'chicken', 'broccoli', 'ga...   \n",
       "8448                                {'sauces', 'steak'}   \n",
       "\n",
       "                                                  verbs  \\\n",
       "8444  ['have', 'come', 'use', 'take', 'mix', 'need',...   \n",
       "8445  ['make', 'find', 'cut', 'chop', 'get', 'add', ...   \n",
       "8446  ['feel', 'make', 'notice', 'add', 'bake', 'get...   \n",
       "8447  ['suit', 'like', 'have', 'make', 'use', 'find'...   \n",
       "8448  ['choose', 'think', 'throw', 'reduce', 'change...   \n",
       "\n",
       "                                            ingredients  \n",
       "8444  ['chicken', 'zucchini', 'onion', 'carrot', 'cr...  \n",
       "8445  ['eggs', 'part-skim ricotta cheese', 'plum tom...  \n",
       "8446  ['eggs', 'part-skim ricotta cheese', 'plum tom...  \n",
       "8447  ['fresh broccoli', 'boneless skinless chicken ...  \n",
       "8448  ['sirloin steak', 'shallot', 'garlic cloves', ...  "
      ]
     },
     "execution_count": 18,
     "metadata": {},
     "output_type": "execute_result"
    }
   ],
   "source": [
    "reviews_with_ingredients.tail()"
   ]
  },
  {
   "cell_type": "code",
   "execution_count": 36,
   "metadata": {},
   "outputs": [
    {
     "data": {
      "text/plain": [
       "'YUMMY CREAMY FRUITY DELICIOUS! I made this with orange juice and added fresh pineapple chunks. I also used extra ice and added Splenda. Freddy Cat says thanks for the drink! Made for the ZWT4.'"
      ]
     },
     "execution_count": 36,
     "metadata": {},
     "output_type": "execute_result"
    }
   ],
   "source": [
    "reviews_with_ingredients.review[234]"
   ]
  },
  {
   "cell_type": "code",
   "execution_count": 47,
   "metadata": {},
   "outputs": [
    {
     "data": {
      "text/plain": [
       "\"['ice', 'banana', 'strawberries', 'pineapple juice', 'coconut milk']\""
      ]
     },
     "execution_count": 47,
     "metadata": {},
     "output_type": "execute_result"
    }
   ],
   "source": [
    "reviews_with_ingredients.ingredients[234]"
   ]
  },
  {
   "cell_type": "code",
   "execution_count": 126,
   "metadata": {},
   "outputs": [],
   "source": [
    "def make_user_prompt(review, ingredients):\n",
    "\n",
    "    return \"\\nReview: \" + review + \"\\nIngredients: \" + str(ingredients)"
   ]
  },
  {
   "cell_type": "code",
   "execution_count": 69,
   "metadata": {},
   "outputs": [
    {
     "name": "stdout",
     "output_type": "stream",
     "text": [
      "\n",
      "Review: YUMMY CREAMY FRUITY DELICIOUS! I made this with orange juice and added fresh pineapple chunks. I also used extra ice and added Splenda. Freddy Cat says thanks for the drink! Made for the ZWT4.\n",
      "Ingredients: ['ice', 'banana', 'strawberries', 'pineapple juice', 'coconut milk']\n"
     ]
    }
   ],
   "source": [
    "\n",
    "user_example = make_user_prompt(reviews_with_ingredients.review[234], reviews_with_ingredients.ingredients[234])\n",
    "print(user_example)"
   ]
  },
  {
   "cell_type": "code",
   "execution_count": 70,
   "metadata": {},
   "outputs": [
    {
     "name": "stdout",
     "output_type": "stream",
     "text": [
      "[{'o': 'pineapple juice', 'n': 'orange juice'}, {'o': '-', 'n': 'fresh pineapple chunks'}, {'o': '-', 'n': 'ice'}, {'o': '-', 'n': 'Splenda'}]\n"
     ]
    }
   ],
   "source": [
    "system_example_response = str([{\"o\":\"pineapple juice\", \"n\": \"orange juice\"}, {\"o\": \"-\", \"n\": \"fresh pineapple chunks\"}, {\"o\": \"-\", \"n\": \"ice\"}, {\"o\": \"-\", \"n\": \"Splenda\"}])\n",
    "print(system_example_response)"
   ]
  },
  {
   "cell_type": "code",
   "execution_count": 74,
   "metadata": {},
   "outputs": [
    {
     "data": {
      "text/plain": [
       "(\"Excellent soup. Stone Soup made for a wonderful class project a few years back, one I have always wanted to make a home project. With the making of your recipe -  the soup and 'the story'  I suspect now a 'tradition in the making' at our house. Went with a potato for the symbolic stone and made as posted, the end result was soup that we enjoyed. Think the addition of chicken or turkey as previous reviewers added would work well with this recipe as would rice - making for a good many variations for this old fashioned soup. To round out the meal made Chef TotalFark's corn meal muffins using Recipe#203214. Thank you for sharing both the story and the recipe Sydney Mike!\",\n",
       " \"['butter', 'onion', 'celery ribs', 'carrot', 'red potatoes', 'red bell pepper', 'garlic clove', 'chicken broth', 'zucchini', 'yellow squash', 'corn kernel', 'cooked pasta', 'salt', 'pepper', 'parmesan cheese', 'crouton']\")"
      ]
     },
     "execution_count": 74,
     "metadata": {},
     "output_type": "execute_result"
    }
   ],
   "source": [
    "reviews_with_ingredients.review[3640], reviews_with_ingredients.ingredients[3640]"
   ]
  },
  {
   "cell_type": "code",
   "execution_count": 155,
   "metadata": {},
   "outputs": [],
   "source": [
    "from openai import OpenAI\n",
    "\n",
    "# read api key from file\n",
    "\n",
    "api_key = open(\"openai_api_key.txt\", \"r\").read()\n",
    "client = OpenAI(api_key=api_key)\n",
    "def get_replacements(review, ingredients):\n",
    "\n",
    "  \n",
    "  completion = client.chat.completions.create(\n",
    "    model=\"gpt-3.5-turbo-1106\",\n",
    "    messages=[\n",
    "      {\"role\": \"system\", \"content\": \"Input: a user review and a list of ingredients. Find all mentions of changes in ingredients list from the review. Output in the following JSON format: {'repl': [{'o': original_ingredient, 'n': new_ingredient}, ...]'}. If original ingredient could not be identified with 100% certainty, leave '-'. If no changes, return empty list.\"},\n",
    "      {\"role\": \"user\", \"content\":  make_user_prompt(review, ingredients)},\n",
    "    ],\n",
    "    temperature=0,\n",
    "    response_format={\"type\": \"json_object\"},\n",
    "    seed=42,\n",
    "    frequency_penalty=0.1,\n",
    "    n=1,\n",
    "    max_tokens=1000,\n",
    "  )\n",
    "\n",
    "  return completion\n",
    "\n",
    "completion = get_replacements(reviews_with_ingredients.review[3640], reviews_with_ingredients.ingredients[3640])"
   ]
  },
  {
   "cell_type": "code",
   "execution_count": null,
   "metadata": {},
   "outputs": [],
   "source": []
  },
  {
   "cell_type": "code",
   "execution_count": 156,
   "metadata": {},
   "outputs": [
    {
     "data": {
      "text/plain": [
       "ChatCompletion(id='chatcmpl-8c38Oot93oKbG7Ul3FpkTNS1T2jEq', choices=[Choice(finish_reason='stop', index=0, logprobs=None, message=ChatCompletionMessage(content='{\\n  \"repl\": [\\n    {\"o\": \"-\", \"n\": \"chicken\"},\\n    {\"o\": \"-\", \"n\": \"turkey\"},\\n    {\"o\": \"-\", \"n\": \"rice\"}\\n  ]\\n}', role='assistant', function_call=None, tool_calls=None))], created=1704079204, model='gpt-3.5-turbo-1106', object='chat.completion', system_fingerprint='fp_772e8125bb', usage=CompletionUsage(completion_tokens=45, prompt_tokens=236, total_tokens=281))"
      ]
     },
     "execution_count": 156,
     "metadata": {},
     "output_type": "execute_result"
    }
   ],
   "source": [
    "completion"
   ]
  },
  {
   "cell_type": "code",
   "execution_count": 101,
   "metadata": {},
   "outputs": [
    {
     "data": {
      "text/plain": [
       "'{\"system_fingerprint\": \"fp_772e8125bb\", \"replacements\": [{\"o\": \"red potatoes\", \"n\": \"potato\"}, {\"o\": \"chicken broth\", \"n\": \"chicken\"}, {\"o\": \"cooked pasta\", \"n\": \"rice\"}]}'"
      ]
     },
     "execution_count": 101,
     "metadata": {},
     "output_type": "execute_result"
    }
   ],
   "source": [
    "json.dumps({\"system_fingerprint\": completion.system_fingerprint, \"replacements\": json.loads(completion.choices[0].message.content)[\"repl\"]})"
   ]
  },
  {
   "cell_type": "code",
   "execution_count": 114,
   "metadata": {},
   "outputs": [
    {
     "data": {
      "text/plain": [
       "('Made the cheddar bacon topping, adding a sprinkling of black pepper. Yum!',\n",
       " \"['mayonnaise', 'salsa', 'cheddar cheese', 'refried beans', 'ham', 'green pepper', 'tomatoes', 'cooked bacon', 'pepperoni', 'mozzarella cheese', 'parmesan cheese', 'pizza sauce', 'frozen chopped broccoli']\")"
      ]
     },
     "execution_count": 114,
     "metadata": {},
     "output_type": "execute_result"
    }
   ],
   "source": [
    "reviews_with_ingredients.review[1], reviews_with_ingredients.ingredients[1]"
   ]
  },
  {
   "cell_type": "code",
   "execution_count": 38,
   "metadata": {},
   "outputs": [
    {
     "data": {
      "text/plain": [
       "'\\n{\\n  \"replacements\": [\\n    {\"old\": \"-\", \"new\": \"orange juice\"},\\n    {\"old\": \"-\", \"new\": \"fresh pineapple chunks\"},\\n    {\"old\": \"-\", \"new\": \"Splenda\"}\\n  ]\\n}'"
      ]
     },
     "execution_count": 38,
     "metadata": {},
     "output_type": "execute_result"
    }
   ],
   "source": [
    "completion.choices[0].message.content"
   ]
  },
  {
   "cell_type": "code",
   "execution_count": 10,
   "metadata": {},
   "outputs": [
    {
     "data": {
      "text/plain": [
       "\"['raspberries', 'granulated sugar']\""
      ]
     },
     "execution_count": 10,
     "metadata": {},
     "output_type": "execute_result"
    }
   ],
   "source": [
    "reviews_with_ingredients[\"ingredients\"][2]"
   ]
  },
  {
   "cell_type": "code",
   "execution_count": 63,
   "metadata": {},
   "outputs": [],
   "source": [
    "import json\n",
    "from tqdm import tqdm"
   ]
  },
  {
   "cell_type": "code",
   "execution_count": 96,
   "metadata": {},
   "outputs": [],
   "source": [
    "import time "
   ]
  },
  {
   "cell_type": "code",
   "execution_count": null,
   "metadata": {},
   "outputs": [],
   "source": [
    "input_tokens = 0\n",
    "output_tokens = 0"
   ]
  },
  {
   "cell_type": "code",
   "execution_count": 159,
   "metadata": {},
   "outputs": [
    {
     "name": "stderr",
     "output_type": "stream",
     "text": [
      " 67%|██████▋   | 3127/4678 [4:06:05<2:02:03,  4.72s/it]\n"
     ]
    },
    {
     "ename": "KeyError",
     "evalue": "8449",
     "output_type": "error",
     "traceback": [
      "\u001b[1;31m---------------------------------------------------------------------------\u001b[0m",
      "\u001b[1;31mKeyError\u001b[0m                                  Traceback (most recent call last)",
      "File \u001b[1;32m~\\AppData\\Roaming\\Python\\Python311\\site-packages\\pandas\\core\\indexes\\base.py:3803\u001b[0m, in \u001b[0;36mIndex.get_loc\u001b[1;34m(self, key, method, tolerance)\u001b[0m\n\u001b[0;32m   3802\u001b[0m \u001b[38;5;28;01mtry\u001b[39;00m:\n\u001b[1;32m-> 3803\u001b[0m     \u001b[38;5;28;01mreturn\u001b[39;00m \u001b[38;5;28;43mself\u001b[39;49m\u001b[38;5;241;43m.\u001b[39;49m\u001b[43m_engine\u001b[49m\u001b[38;5;241;43m.\u001b[39;49m\u001b[43mget_loc\u001b[49m\u001b[43m(\u001b[49m\u001b[43mcasted_key\u001b[49m\u001b[43m)\u001b[49m\n\u001b[0;32m   3804\u001b[0m \u001b[38;5;28;01mexcept\u001b[39;00m \u001b[38;5;167;01mKeyError\u001b[39;00m \u001b[38;5;28;01mas\u001b[39;00m err:\n",
      "File \u001b[1;32m~\\AppData\\Roaming\\Python\\Python311\\site-packages\\pandas\\_libs\\index.pyx:138\u001b[0m, in \u001b[0;36mpandas._libs.index.IndexEngine.get_loc\u001b[1;34m()\u001b[0m\n",
      "File \u001b[1;32m~\\AppData\\Roaming\\Python\\Python311\\site-packages\\pandas\\_libs\\index.pyx:165\u001b[0m, in \u001b[0;36mpandas._libs.index.IndexEngine.get_loc\u001b[1;34m()\u001b[0m\n",
      "File \u001b[1;32mpandas\\_libs\\hashtable_class_helper.pxi:2263\u001b[0m, in \u001b[0;36mpandas._libs.hashtable.Int64HashTable.get_item\u001b[1;34m()\u001b[0m\n",
      "File \u001b[1;32mpandas\\_libs\\hashtable_class_helper.pxi:2273\u001b[0m, in \u001b[0;36mpandas._libs.hashtable.Int64HashTable.get_item\u001b[1;34m()\u001b[0m\n",
      "\u001b[1;31mKeyError\u001b[0m: 8449",
      "\nThe above exception was the direct cause of the following exception:\n",
      "\u001b[1;31mKeyError\u001b[0m                                  Traceback (most recent call last)",
      "Cell \u001b[1;32mIn [159], line 2\u001b[0m\n\u001b[0;32m      1\u001b[0m \u001b[38;5;28;01mfor\u001b[39;00m i \u001b[38;5;129;01min\u001b[39;00m tqdm(\u001b[38;5;28mrange\u001b[39m(\u001b[38;5;241m5322\u001b[39m, \u001b[38;5;241m10000\u001b[39m)):\n\u001b[1;32m----> 2\u001b[0m   review \u001b[38;5;241m=\u001b[39m \u001b[43mreviews_with_ingredients\u001b[49m\u001b[43m[\u001b[49m\u001b[38;5;124;43m\"\u001b[39;49m\u001b[38;5;124;43mreview\u001b[39;49m\u001b[38;5;124;43m\"\u001b[39;49m\u001b[43m]\u001b[49m\u001b[43m[\u001b[49m\u001b[43mi\u001b[49m\u001b[43m]\u001b[49m\n\u001b[0;32m      3\u001b[0m   ingredients \u001b[38;5;241m=\u001b[39m reviews_with_ingredients[\u001b[38;5;124m\"\u001b[39m\u001b[38;5;124mingredients\u001b[39m\u001b[38;5;124m\"\u001b[39m][i]\n\u001b[0;32m      5\u001b[0m   completion \u001b[38;5;241m=\u001b[39m get_replacements(review, ingredients)\n",
      "File \u001b[1;32m~\\AppData\\Roaming\\Python\\Python311\\site-packages\\pandas\\core\\series.py:981\u001b[0m, in \u001b[0;36mSeries.__getitem__\u001b[1;34m(self, key)\u001b[0m\n\u001b[0;32m    978\u001b[0m     \u001b[38;5;28;01mreturn\u001b[39;00m \u001b[38;5;28mself\u001b[39m\u001b[38;5;241m.\u001b[39m_values[key]\n\u001b[0;32m    980\u001b[0m \u001b[38;5;28;01melif\u001b[39;00m key_is_scalar:\n\u001b[1;32m--> 981\u001b[0m     \u001b[38;5;28;01mreturn\u001b[39;00m \u001b[38;5;28;43mself\u001b[39;49m\u001b[38;5;241;43m.\u001b[39;49m\u001b[43m_get_value\u001b[49m\u001b[43m(\u001b[49m\u001b[43mkey\u001b[49m\u001b[43m)\u001b[49m\n\u001b[0;32m    983\u001b[0m \u001b[38;5;28;01mif\u001b[39;00m is_hashable(key):\n\u001b[0;32m    984\u001b[0m     \u001b[38;5;66;03m# Otherwise index.get_value will raise InvalidIndexError\u001b[39;00m\n\u001b[0;32m    985\u001b[0m     \u001b[38;5;28;01mtry\u001b[39;00m:\n\u001b[0;32m    986\u001b[0m         \u001b[38;5;66;03m# For labels that don't resolve as scalars like tuples and frozensets\u001b[39;00m\n",
      "File \u001b[1;32m~\\AppData\\Roaming\\Python\\Python311\\site-packages\\pandas\\core\\series.py:1089\u001b[0m, in \u001b[0;36mSeries._get_value\u001b[1;34m(self, label, takeable)\u001b[0m\n\u001b[0;32m   1086\u001b[0m     \u001b[38;5;28;01mreturn\u001b[39;00m \u001b[38;5;28mself\u001b[39m\u001b[38;5;241m.\u001b[39m_values[label]\n\u001b[0;32m   1088\u001b[0m \u001b[38;5;66;03m# Similar to Index.get_value, but we do not fall back to positional\u001b[39;00m\n\u001b[1;32m-> 1089\u001b[0m loc \u001b[38;5;241m=\u001b[39m \u001b[38;5;28;43mself\u001b[39;49m\u001b[38;5;241;43m.\u001b[39;49m\u001b[43mindex\u001b[49m\u001b[38;5;241;43m.\u001b[39;49m\u001b[43mget_loc\u001b[49m\u001b[43m(\u001b[49m\u001b[43mlabel\u001b[49m\u001b[43m)\u001b[49m\n\u001b[0;32m   1090\u001b[0m \u001b[38;5;28;01mreturn\u001b[39;00m \u001b[38;5;28mself\u001b[39m\u001b[38;5;241m.\u001b[39mindex\u001b[38;5;241m.\u001b[39m_get_values_for_loc(\u001b[38;5;28mself\u001b[39m, loc, label)\n",
      "File \u001b[1;32m~\\AppData\\Roaming\\Python\\Python311\\site-packages\\pandas\\core\\indexes\\base.py:3805\u001b[0m, in \u001b[0;36mIndex.get_loc\u001b[1;34m(self, key, method, tolerance)\u001b[0m\n\u001b[0;32m   3803\u001b[0m     \u001b[38;5;28;01mreturn\u001b[39;00m \u001b[38;5;28mself\u001b[39m\u001b[38;5;241m.\u001b[39m_engine\u001b[38;5;241m.\u001b[39mget_loc(casted_key)\n\u001b[0;32m   3804\u001b[0m \u001b[38;5;28;01mexcept\u001b[39;00m \u001b[38;5;167;01mKeyError\u001b[39;00m \u001b[38;5;28;01mas\u001b[39;00m err:\n\u001b[1;32m-> 3805\u001b[0m     \u001b[38;5;28;01mraise\u001b[39;00m \u001b[38;5;167;01mKeyError\u001b[39;00m(key) \u001b[38;5;28;01mfrom\u001b[39;00m \u001b[38;5;21;01merr\u001b[39;00m\n\u001b[0;32m   3806\u001b[0m \u001b[38;5;28;01mexcept\u001b[39;00m \u001b[38;5;167;01mTypeError\u001b[39;00m:\n\u001b[0;32m   3807\u001b[0m     \u001b[38;5;66;03m# If we have a listlike key, _check_indexing_error will raise\u001b[39;00m\n\u001b[0;32m   3808\u001b[0m     \u001b[38;5;66;03m#  InvalidIndexError. Otherwise we fall through and re-raise\u001b[39;00m\n\u001b[0;32m   3809\u001b[0m     \u001b[38;5;66;03m#  the TypeError.\u001b[39;00m\n\u001b[0;32m   3810\u001b[0m     \u001b[38;5;28mself\u001b[39m\u001b[38;5;241m.\u001b[39m_check_indexing_error(key)\n",
      "\u001b[1;31mKeyError\u001b[0m: 8449"
     ]
    }
   ],
   "source": [
    "\n",
    "for i in tqdm(range(5322, 10000)):\n",
    "  review = reviews_with_ingredients[\"review\"][i]\n",
    "  ingredients = reviews_with_ingredients[\"ingredients\"][i]\n",
    "\n",
    "  completion = get_replacements(review, ingredients)\n",
    "  \n",
    "  system_fingerprint = completion.system_fingerprint\n",
    "  replacements = completion.choices[0].message.content\n",
    "\n",
    "  input_tokens += completion.usage.prompt_tokens\n",
    "  output_tokens += completion.usage.completion_tokens\n",
    "\n",
    "  \n",
    "  # save to file\n",
    "  with open(\"replacements7.jsonl\", \"a\") as myfile:\n",
    "\n",
    "    if \"repl\" not in json.loads(completion.choices[0].message.content):\n",
    "      array = []\n",
    "    else:\n",
    "      array = json.loads(completion.choices[0].message.content)[\"repl\"]\n",
    "\n",
    "    myfile.write(json.dumps({\"index\":i,\"system_fingerprint\": completion.system_fingerprint, \"replacements\": array}) + \"\\n\")\n",
    "\n",
    "  time.sleep(3)\n"
   ]
  },
  {
   "cell_type": "code",
   "execution_count": 158,
   "metadata": {},
   "outputs": [
    {
     "data": {
      "text/plain": [
       "ChatCompletion(id='chatcmpl-8c6kEeC3jmUZ7zIhneLqdOTYFB7Pd', choices=[Choice(finish_reason='stop', index=0, logprobs=None, message=ChatCompletionMessage(content='{\\n  \"repl\": [\\n    {\"o\": \"-\", \"n\": \"enchilada sauce\"},\\n    {\"o\": \"green cho', role='assistant', function_call=None, tool_calls=None))], created=1704093082, model='gpt-3.5-turbo-1106', object='chat.completion', system_fingerprint='fp_772e8125bb', usage=CompletionUsage(completion_tokens=29, prompt_tokens=222, total_tokens=251))"
      ]
     },
     "execution_count": 158,
     "metadata": {},
     "output_type": "execute_result"
    }
   ],
   "source": [
    "completion"
   ]
  },
  {
   "cell_type": "code",
   "execution_count": 134,
   "metadata": {},
   "outputs": [
    {
     "data": {
      "text/plain": [
       "ChatCompletion(id='chatcmpl-8brjb4GzoJxaFdvVCoLn5YUsRS6RC', choices=[Choice(finish_reason='stop', index=0, logprobs=None, message=ChatCompletionMessage(content='{}\\n\\n', role='assistant', function_call=None, tool_calls=None))], created=1704035383, model='gpt-3.5-turbo-1106', object='chat.completion', system_fingerprint='fp_772e8125bb', usage=CompletionUsage(completion_tokens=1, prompt_tokens=195, total_tokens=196))"
      ]
     },
     "execution_count": 134,
     "metadata": {},
     "output_type": "execute_result"
    }
   ],
   "source": [
    "completion"
   ]
  },
  {
   "cell_type": "code",
   "execution_count": null,
   "metadata": {},
   "outputs": [],
   "source": []
  },
  {
   "cell_type": "code",
   "execution_count": 97,
   "metadata": {},
   "outputs": [
    {
     "data": {
      "text/plain": [
       "\"This was a lovely Morrocan style dish. I halved the recipe and made it on the stove top like a stew. I added a bit more stock to keep it from drying out. I left off the parsley and/or cilantro, didn't have any. Served with some warm pita type flat breads. I have a VERY picky Husband that even enjoyed this dish.\""
      ]
     },
     "execution_count": 97,
     "metadata": {},
     "output_type": "execute_result"
    }
   ],
   "source": [
    "reviews_with_ingredients[\"review\"][6]"
   ]
  },
  {
   "cell_type": "code",
   "execution_count": 65,
   "metadata": {},
   "outputs": [
    {
     "data": {
      "text/plain": [
       "'\\n{\\n  \"0\": {\"o\": \"2 cups\", \"n\": \"-\"},\\n  \"1\": {\"o\": \"1/3 cup of sugar\", \"n\": \"-\"},\\n  \"2\": {\"o\": \"1/4 cup of sugar\", \"n\": \"-\"}\\n}'"
      ]
     },
     "execution_count": 65,
     "metadata": {},
     "output_type": "execute_result"
    }
   ],
   "source": [
    "completion.choices[0].message.content"
   ]
  },
  {
   "cell_type": "code",
   "execution_count": 160,
   "metadata": {},
   "outputs": [
    {
     "data": {
      "text/plain": [
       "2.256391"
      ]
     },
     "execution_count": 160,
     "metadata": {},
     "output_type": "execute_result"
    }
   ],
   "source": [
    "estimated_bill = input_tokens / 1000 * 0.001 + output_tokens / 1000 * 0.002\n",
    "estimated_bill"
   ]
  },
  {
   "cell_type": "code",
   "execution_count": null,
   "metadata": {},
   "outputs": [],
   "source": []
  }
 ],
 "metadata": {
  "kernelspec": {
   "display_name": "Python 3",
   "language": "python",
   "name": "python3"
  },
  "language_info": {
   "codemirror_mode": {
    "name": "ipython",
    "version": 3
   },
   "file_extension": ".py",
   "mimetype": "text/x-python",
   "name": "python",
   "nbconvert_exporter": "python",
   "pygments_lexer": "ipython3",
   "version": "3.11.3"
  }
 },
 "nbformat": 4,
 "nbformat_minor": 2
}
